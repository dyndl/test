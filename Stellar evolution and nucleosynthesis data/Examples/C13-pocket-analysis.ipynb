{
 "cells": [
  {
   "cell_type": "markdown",
   "metadata": {},
   "source": [
    "# Explore the C13 pocket\n",
    "(for Jacqueline, from Falk)\n"
   ]
  },
  {
   "cell_type": "code",
   "execution_count": null,
   "metadata": {},
   "outputs": [],
   "source": [
    "%pylab \n",
    "from nugridpy import nugridse as mp\n",
    "from nugridpy import mesa as ms\n",
    "\n",
    "# default data location (try mirror if default\n",
    "# is not available)\n",
    "data_dir=\"/tmp/nugrid_data\"   \n",
    "\n",
    "# mirror data locations (some mirrors \n",
    "# may not be available at some time)\n",
    "\n",
    "# data_dir=\"/data/nugrid_cedar\"  # may be default    \n",
    "# data_dir=\"/data/nugrid_rpod4\"    \n",
    "# data_dir=\"/data/nugrid_vos\"    \n",
    "\n",
    "\n",
    "ms.set_nugrid_path(data_dir)\n",
    "mp.set_nugrid_path(data_dir)"
   ]
  },
  {
   "cell_type": "markdown",
   "metadata": {},
   "source": [
    "## The MESA stellar evolution model\n",
    "Initialise the 2 solar-mass Z=0.02 MESA stellar evolution model from set1.2 using the seeker method:"
   ]
  },
  {
   "cell_type": "code",
   "execution_count": null,
   "metadata": {},
   "outputs": [],
   "source": [
    "s=ms.star_log(mass=2,Z=0.01)"
   ]
  },
  {
   "cell_type": "code",
   "execution_count": null,
   "metadata": {},
   "outputs": [],
   "source": [
    "modmin=46800; modmax=50000"
   ]
  },
  {
   "cell_type": "markdown",
   "metadata": {},
   "source": [
    "Let's now see what the model looks like by making some Kippenhahn diagrams"
   ]
  },
  {
   "cell_type": "code",
   "execution_count": null,
   "metadata": {},
   "outputs": [],
   "source": [
    "ifig=111;close(ifig);figure(ifig)\n",
    "s.kippenhahn(ifig,'model')\n",
    "xlim(modmin,modmax)\n",
    "ylim(0.594,0.615)"
   ]
  },
  {
   "cell_type": "code",
   "execution_count": null,
   "metadata": {},
   "outputs": [],
   "source": [
    "# increase xres and yres to make plot higher res\n",
    "ifig=112;close(ifig);figure(ifig)\n",
    "#s.kip_cont(ifig=ifig,modstart=modmin,modstop=modmax,ylims=[yyl[0],yyl[1]],xres=5000,yres=5000)\n",
    "s.kip_cont(ifig=ifig,modstart=modmin,modstop=modmax,xres=10000,yres=10000,xlims=[46800,50000], ylims=[0.594,0.615])"
   ]
  },
  {
   "cell_type": "markdown",
   "metadata": {},
   "source": [
    "Now that we have an overview of the stellar evolution of this $2M_\\odot$ star let's have a closer look at the nucleosynthesis.\n",
    "\n",
    "## The NuGrid post-processing model\n",
    "Initialise the 2 solar-mass Z=0.01 NuGrid nucleosynthesis data from set1.2 using the seeker method:"
   ]
  },
  {
   "cell_type": "code",
   "execution_count": null,
   "metadata": {},
   "outputs": [],
   "source": [
    "pt=mp.se(mass=2,Z=0.01)"
   ]
  },
  {
   "cell_type": "markdown",
   "metadata": {},
   "source": [
    "### Abundance profiles in C13 pocket"
   ]
  },
  {
   "cell_type": "code",
   "execution_count": null,
   "metadata": {},
   "outputs": [],
   "source": [
    "# pt.abu_profile?"
   ]
  },
  {
   "cell_type": "code",
   "execution_count": null,
   "metadata": {},
   "outputs": [],
   "source": [
    "species=['H-1','C-12','C-13','N-14','Fe-56','Sr-86','Ba-138','Pb-206']\n",
    "yyl=(-6.759, 0.274)\n",
    "xxl=(0.60008, 0.60014)"
   ]
  },
  {
   "cell_type": "code",
   "execution_count": null,
   "metadata": {},
   "outputs": [],
   "source": [
    "ifig=1088;close(ifig);figure(ifig)\n",
    "pt.abu_profile(isos=species, ifig=ifig, fname=47740, logy=True)\n",
    "ylim(yyl)\n",
    "xlim(xxl)\n",
    "title('Formation of C13 pocket after end of 3DUP')"
   ]
  },
  {
   "cell_type": "code",
   "execution_count": null,
   "metadata": {},
   "outputs": [],
   "source": [
    "ifig=108;close(ifig);figure(ifig)\n",
    "pt.abu_profile(isos=species, ifig=ifig, fname=49560, logy=True)\n",
    "ylim(yyl)\n",
    "xlim(xxl)\n",
    "title('C13 pocket at the end of interpulse, just before next PDCZ')"
   ]
  },
  {
   "cell_type": "markdown",
   "metadata": {},
   "source": [
    "### Isotopic abundance distribution in the C13 pocket\n",
    "\n",
    "#### Static plots\n",
    "\n"
   ]
  },
  {
   "cell_type": "code",
   "execution_count": null,
   "metadata": {},
   "outputs": [],
   "source": [
    "# help\n",
    "#pt.iso_abund?"
   ]
  },
  {
   "cell_type": "code",
   "execution_count": null,
   "metadata": {},
   "outputs": [],
   "source": [
    "ifig=123;close(ifig);figure(ifig)\n",
    "pt.iso_abund(47740, stable=True,decayed=False,amass_range=[50,210], mass_range=[xxl[0],xxl[1]], ylim=[-9, -2])\n",
    "title('Abundance distrubtion, in C13 pocket, just after 3DUP')"
   ]
  },
  {
   "cell_type": "code",
   "execution_count": null,
   "metadata": {},
   "outputs": [],
   "source": [
    "ifig=124;close(ifig);figure(ifig)\n",
    "pt.iso_abund(49560, stable=True,decayed=False,amass_range=[50,210], mass_range=[xxl[0],xxl[1]], ylim=[-9, -2])\n",
    "title('Abundance distrubtion, in C13 pocket, just before PDCZ')"
   ]
  },
  {
   "cell_type": "markdown",
   "metadata": {},
   "source": [
    "### Abundance chart plot\n",
    "We can also see the impact on the isotopic abundance chart for that part of the star:"
   ]
  },
  {
   "cell_type": "code",
   "execution_count": null,
   "metadata": {},
   "outputs": [],
   "source": [
    "pt.abu_chart?"
   ]
  },
  {
   "cell_type": "code",
   "execution_count": null,
   "metadata": {},
   "outputs": [],
   "source": [
    "pt.abu_chart(47740,mass_range=[xxl[0],xxl[1]], plotaxis=[0, 80, 0, 60],\\\n",
    "             ilabel=False,imlabel=False,boxstable=False, lbound=(-12, -5))\n",
    "title('Abundance chart in C13 pocket, just after 3DUP')"
   ]
  },
  {
   "cell_type": "code",
   "execution_count": null,
   "metadata": {},
   "outputs": [],
   "source": [
    "pt.abu_chart(49560,mass_range=[xxl[0],xxl[1]], plotaxis=[0, 80, 0, 60],\\\n",
    "             ilabel=False,imlabel=False,boxstable=False, lbound=(-12, -5))\n",
    "title('Abundance chart  in C13 pocket, just before PDCZ')"
   ]
  },
  {
   "cell_type": "code",
   "execution_count": null,
   "metadata": {},
   "outputs": [],
   "source": []
  }
 ],
 "metadata": {
  "kernelspec": {
   "display_name": "Python 3",
   "language": "python",
   "name": "python3"
  },
  "language_info": {
   "codemirror_mode": {
    "name": "ipython",
    "version": 3
   },
   "file_extension": ".py",
   "mimetype": "text/x-python",
   "name": "python",
   "nbconvert_exporter": "python",
   "pygments_lexer": "ipython3",
   "version": "3.6.4"
  }
 },
 "nbformat": 4,
 "nbformat_minor": 2
}
