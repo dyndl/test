{
 "cells": [
  {
   "cell_type": "markdown",
   "metadata": {},
   "source": [
    "First we load the model: MESA (if needed), preSN and postSN"
   ]
  },
  {
   "cell_type": "code",
   "execution_count": null,
   "metadata": {},
   "outputs": [],
   "source": [
    "%pylab \n",
    "from nugridpy import nugridse as mp\n",
    "from nugridpy import mesa as ms\n",
    "\n",
    "# default data location (try mirror if default\n",
    "# is not available)\n",
    "data_dir=\"/tmp/nugrid_data\"   \n",
    "\n",
    "# mirror data locations (some mirrors \n",
    "# may not be available at some time)\n",
    "\n",
    "# data_dir=\"/data/nugrid_cedar\"  # may be default    \n",
    "# data_dir=\"/data/nugrid_rpod4\"    \n",
    "# data_dir=\"/data/nugrid_vos\"    \n",
    "\n",
    "ms.set_nugrid_path(data_dir)\n",
    "mp.set_nugrid_path(data_dir)"
   ]
  },
  {
   "cell_type": "code",
   "execution_count": null,
   "metadata": {},
   "outputs": [],
   "source": [
    "s=ms.star_log(mass=15,Z=0.01)"
   ]
  },
  {
   "cell_type": "code",
   "execution_count": null,
   "metadata": {},
   "outputs": [],
   "source": [
    "pt_exp=mp.se(mass=15,Z=0.01, type='ppd_exp')\n",
    "pt_pre=mp.se(mass=15,Z=0.01, type='ppd_wind')\n"
   ]
  },
  {
   "cell_type": "markdown",
   "metadata": {},
   "source": [
    "Here below there is a piece of code that look for the masscut, to use for plotting. We do not care of what is below the masscut"
   ]
  },
  {
   "cell_type": "code",
   "execution_count": null,
   "metadata": {},
   "outputs": [],
   "source": [
    "cyc_exp = pt_exp.se.cycles[len(pt_exp.se.cycles)-1]\n",
    "cyc_exp_0 = pt_exp.se.cycles[0]\n",
    "\n",
    "cyc_pre = pt_pre.se.cycles[len(pt_pre.se.cycles)-1]\n",
    "\n",
    "masscut =  max(pt_exp.se.get(cyc_exp,'mass'))\n",
    "mass_coo = pt_exp.se.get(cyc_exp,'mass')\n",
    "temp = pt_exp.se.get(cyc_exp_0,'temperature')\n",
    "\n",
    "mass_coo_min = len(temp)\n",
    "j=0\n",
    "for i in temp:\n",
    "    if i > 1.05e-9:\n",
    "        dum = mass_coo[j]\n",
    "        masscut = min(dum,masscut)\n",
    "        mass_coo_min = min(j,mass_coo_min)\n",
    "    j=j+1"
   ]
  },
  {
   "cell_type": "code",
   "execution_count": null,
   "metadata": {},
   "outputs": [],
   "source": [
    "# exctract Tmax vs mass\n",
    "#max_t = 0.\n",
    "#for i in pt_exp.se.cycles:\n",
    "#    dum=pt_exp.se.get(i,'temperature')[mass_coo_min]\n",
    "#    max_t=max(dum,max_t)\n",
    "#    if dum == max_t:\n",
    "#        cyc_max_t = i\n",
    "\n",
    "cyc_max_t = 18070\n",
    "max_t = 6.7162410756089219\n",
    "print(cyc_max_t,max_t)"
   ]
  },
  {
   "cell_type": "markdown",
   "metadata": {},
   "source": [
    "Here I generate the array of T_peak due to the SN shock passing across the massive star progenitor"
   ]
  },
  {
   "cell_type": "code",
   "execution_count": null,
   "metadata": {},
   "outputs": [],
   "source": [
    "# Array of T_peak vs mass\n",
    "temperature_peak_array = pt_exp.se.get(cyc_max_t,'temperature')"
   ]
  },
  {
   "cell_type": "markdown",
   "metadata": {},
   "source": [
    "Here below you can see that for all mass coordinates we have peak temperature at the same cycle, cyc_max_t. We are lucky... this time. Does not have to be always the case.\n",
    "Use the plot below in the following way. Check the abundance profiles that you care about, and based on that check the peak temperatures relevant to trigger the production of destruction of them. \n",
    "The next step will be just to get the trajectories that you care about."
   ]
  },
  {
   "cell_type": "code",
   "execution_count": null,
   "metadata": {},
   "outputs": [],
   "source": [
    "iso = ['He-4','C-12','O-16','Ni-56','Fe-60']\n",
    "col = ['m','g','k','b','r','c','y','m']\n",
    "lin = '-'\n",
    "llin='--'\n",
    "\n",
    "\n",
    "fig, ax1 = subplots(figsize=(9,5))\n",
    "ax2 = ax1.twinx()\n",
    "\n",
    "#ax1.figure(figsize=(9,6))\n",
    "\n",
    "j=0\n",
    "for i in iso:\n",
    "    ax1.plot(pt_exp.se.get(cyc_exp,'mass'),log10(pt_exp.se.get(cyc_exp,'iso_massf',i)),col[j]+llin,label='CCSN '+i)\n",
    "    ax1.plot(pt_pre.se.get(cyc_pre,'mass'),log10(pt_pre.se.get(cyc_pre,'iso_massf',i)),col[j]+lin,label='PreSN'+i)\n",
    "    j=j+1\n",
    "\n",
    "\n",
    "#plot(pt_exp.se.get(cyc_max_t,'mass'),pt_exp.se.get(cyc_max_t,'temperature'),'k-')\n",
    "    \n",
    "ax1.legend(bbox_to_anchor=(1.15, 1), loc=2, borderaxespad=0.)    \n",
    "axvline(x=masscut,color='k',linewidth=5)  \n",
    "axvspan(0.0, masscut, facecolor='0.5', alpha=0.5)\n",
    "\n",
    "ax1.set_ylabel('Mass fraction')\n",
    "\n",
    "ax1.set_ylim(-12,1)\n",
    "ax1.set_xlim(0,12)\n",
    "\n",
    "ax2.plot(pt_exp.se.get(cyc_max_t,'mass'),pt_exp.se.get(cyc_max_t,'temperature'),'k-+')\n",
    "\n",
    "\n",
    "ax1.set_xlabel('Mass coordinate [Msun]')\n",
    "ax2.set_ylabel('Temperature [GK]')\n",
    "\n",
    "fig.subplots_adjust(right=0.65)\n",
    "fig.show()"
   ]
  },
  {
   "cell_type": "code",
   "execution_count": null,
   "metadata": {},
   "outputs": [],
   "source": []
  }
 ],
 "metadata": {
  "kernelspec": {
   "display_name": "Python 3",
   "language": "python",
   "name": "python3"
  },
  "language_info": {
   "codemirror_mode": {
    "name": "ipython",
    "version": 3
   },
   "file_extension": ".py",
   "mimetype": "text/x-python",
   "name": "python",
   "nbconvert_exporter": "python",
   "pygments_lexer": "ipython3",
   "version": "3.6.4"
  }
 },
 "nbformat": 4,
 "nbformat_minor": 2
}
