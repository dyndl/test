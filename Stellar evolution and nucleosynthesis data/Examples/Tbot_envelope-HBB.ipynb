{
 "cells": [
  {
   "cell_type": "markdown",
   "metadata": {},
   "source": [
    "# T at the bottom of the convective envelope in a HBB star\n",
    "\n"
   ]
  },
  {
   "cell_type": "code",
   "execution_count": null,
   "metadata": {},
   "outputs": [],
   "source": [
    "%pylab \n",
    "from nugridpy import mesa as ms\n",
    "from nugridpy import nugridse as mp\n",
    "\n",
    "\n",
    "# default data location (try mirror if default\n",
    "# is not available)\n",
    "data_dir=\"/tmp/nugrid_data\"   \n",
    "\n",
    "# mirror data locations (some mirrors \n",
    "# may not be available at some time)\n",
    "\n",
    "# data_dir=\"/data/nugrid_cedar\"  # may be default    \n",
    "# data_dir=\"/data/nugrid_rpod4\"    \n",
    "# data_dir=\"/data/nugrid_vos\"    \n",
    "\n",
    "\n",
    "\n",
    "ms.set_nugrid_path(data_dir)\n",
    "mp.set_nugrid_path(data_dir)"
   ]
  },
  {
   "cell_type": "code",
   "execution_count": null,
   "metadata": {},
   "outputs": [],
   "source": [
    "st=ms.star_log(mass=6.5,Z=0.0001)"
   ]
  },
  {
   "cell_type": "code",
   "execution_count": null,
   "metadata": {},
   "outputs": [],
   "source": [
    "ifig=129;close(ifig);figure(ifig)\n",
    "st.kippenhahn(ifig,'model')\n",
    "#title(\"Z=0.006, 4Msun\")"
   ]
  },
  {
   "cell_type": "code",
   "execution_count": null,
   "metadata": {},
   "outputs": [],
   "source": [
    "figure(129)\n",
    "#yylim=ylim(yylim)\n",
    "yylim=(1.12379, 1.12444)\n",
    "yylim=ylim(yylim)\n",
    "xlim(16000,17000)"
   ]
  },
  {
   "cell_type": "code",
   "execution_count": null,
   "metadata": {},
   "outputs": [],
   "source": [
    "yylim"
   ]
  },
  {
   "cell_type": "code",
   "execution_count": null,
   "metadata": {},
   "outputs": [],
   "source": [
    "pt=mp.se(mass=6,Z=0.0001)"
   ]
  },
  {
   "cell_type": "code",
   "execution_count": null,
   "metadata": {},
   "outputs": [],
   "source": [
    "ifig=130;close(ifig);figure(ifig)\n",
    "pt.plot('mass','temperature',fname=16800)\n",
    "xlim(yylim)"
   ]
  },
  {
   "cell_type": "code",
   "execution_count": null,
   "metadata": {},
   "outputs": [],
   "source": []
  },
  {
   "cell_type": "code",
   "execution_count": null,
   "metadata": {},
   "outputs": [],
   "source": []
  }
 ],
 "metadata": {
  "kernelspec": {
   "display_name": "Python 3",
   "language": "python",
   "name": "python3"
  },
  "language_info": {
   "codemirror_mode": {
    "name": "ipython",
    "version": 3
   },
   "file_extension": ".py",
   "mimetype": "text/x-python",
   "name": "python",
   "nbconvert_exporter": "python",
   "pygments_lexer": "ipython3",
   "version": "3.6.4"
  }
 },
 "nbformat": 4,
 "nbformat_minor": 2
}
