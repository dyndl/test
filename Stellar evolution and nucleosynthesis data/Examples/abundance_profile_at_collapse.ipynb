{
 "cells": [
  {
   "cell_type": "code",
   "execution_count": null,
   "metadata": {},
   "outputs": [],
   "source": [
    "# default data location (try mirror if default\n",
    "# is not available)\n",
    "data_dir=\"/tmp/nugrid_data\"   \n",
    "\n",
    "# mirror data locations (some mirrors \n",
    "# may not be available at some time)\n",
    "\n",
    "# data_dir=\"/data/nugrid_cedar\"  # may be default    \n",
    "# data_dir=\"/data/nugrid_rpod4\"    \n",
    "# data_dir=\"/data/nugrid_vos\"    \n",
    "\n",
    "\n",
    "from nugridpy import nugridse as mp"
   ]
  },
  {
   "cell_type": "code",
   "execution_count": null,
   "metadata": {},
   "outputs": [],
   "source": [
    "mp.set_nugrid_path(data_dir)"
   ]
  },
  {
   "cell_type": "code",
   "execution_count": null,
   "metadata": {},
   "outputs": [],
   "source": [
    "%pylab"
   ]
  },
  {
   "cell_type": "code",
   "execution_count": null,
   "metadata": {},
   "outputs": [],
   "source": [
    "text?"
   ]
  },
  {
   "cell_type": "code",
   "execution_count": null,
   "metadata": {},
   "outputs": [],
   "source": [
    "# settings\n",
    "xmin=1.;xmax=5.\n",
    "ymin=-6;ymax=0"
   ]
  },
  {
   "cell_type": "code",
   "execution_count": null,
   "metadata": {
    "scrolled": false
   },
   "outputs": [],
   "source": [
    "ifig=100\n",
    "for Z in [0.0001,0.001,0.006,0.01,0.02]:\n",
    "    for mass in [12,15,20,25]:\n",
    "        ppd=mp.se(mass=mass,Z=Z)\n",
    "        ifig=ifig;close(ifig);figure(ifig)\n",
    "        ppd.abu_profile(fname=ppd.se.cycles[-1],isos=['C-12','O-16','Ne-20','Mg-24','Si-28'],\\\n",
    "                logy=True,colourblind=True)\n",
    "        ylim(ymin,ymax); xlim(xmin,xmax)\n",
    "        text(xmax-2.,ymin+1,'Z, M = '+str(Z)+', '+str(mass))\n",
    "        savefig('Z, M = '+str(Z)+', '+str(mass)+'.pdf')\n",
    "        ifig += 1"
   ]
  },
  {
   "cell_type": "code",
   "execution_count": null,
   "metadata": {},
   "outputs": [],
   "source": [
    "ppd.se.cycles[-1]"
   ]
  },
  {
   "cell_type": "code",
   "execution_count": null,
   "metadata": {},
   "outputs": [],
   "source": []
  }
 ],
 "metadata": {
  "kernelspec": {
   "display_name": "Python 3",
   "language": "python",
   "name": "python3"
  },
  "language_info": {
   "codemirror_mode": {
    "name": "ipython",
    "version": 3
   },
   "file_extension": ".py",
   "mimetype": "text/x-python",
   "name": "python",
   "nbconvert_exporter": "python",
   "pygments_lexer": "ipython3",
   "version": "3.6.4"
  }
 },
 "nbformat": 4,
 "nbformat_minor": 2
}
