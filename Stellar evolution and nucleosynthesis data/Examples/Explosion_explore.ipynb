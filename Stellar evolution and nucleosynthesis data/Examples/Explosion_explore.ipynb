{
 "cells": [
  {
   "cell_type": "markdown",
   "metadata": {},
   "source": [
    "# Explore explosive nucleosynthesis\n",
    "The usual nugridse tools allow analysis and plotting of the explosive nucleosynthesis as well.\n",
    "\n",
    "## How ipython notebooks work\n",
    "\n",
    "If you have never used an ipython notebook, then here are the few basic rules you need to know:\n",
    "\n",
    "* each cell is a block of code or comments (in markdown, see pull-down menu above)\n",
    "* in each cell you can edit code, several lines using the `Return` key to create a newline\n",
    "* once you are happy with a block of code use the _play_ button above, or just hit `Shift`-`Return` to execute the block of code\n",
    "* in this notebook you use the [NuGridPy tools](http://nugridpy.phys.uvic.ca) to analyze data, [latest version on Github](https://github.com/NuGrid/NuGridPy) "
   ]
  },
  {
   "cell_type": "markdown",
   "metadata": {},
   "source": [
    "## Initialize session"
   ]
  },
  {
   "cell_type": "code",
   "execution_count": null,
   "metadata": {},
   "outputs": [],
   "source": [
    "%pylab \n",
    "from nugridpy import nugridse as mp\n",
    "from nugridpy import mesa as ms\n",
    "\n",
    "# default data location (try mirror if default\n",
    "# is not available)\n",
    "data_dir=\"/tmp/nugrid_data\"   \n",
    "\n",
    "# mirror data locations (some mirrors \n",
    "# may not be available at some time)\n",
    "\n",
    "# data_dir=\"/data/nugrid_cedar\"  # may be default    \n",
    "# data_dir=\"/data/nugrid_rpod4\"    \n",
    "# data_dir=\"/data/nugrid_vos\"    \n",
    "\n",
    "\n",
    "ms.set_nugrid_path(data_dir)\n",
    "mp.set_nugrid_path(data_dir)"
   ]
  },
  {
   "cell_type": "markdown",
   "metadata": {},
   "source": [
    "## The MESA stellar evolution model\n",
    "Initialise the 2 solar-mass Z=0.02 MESA stellar evolution model from set1.2 using the seeker method:"
   ]
  },
  {
   "cell_type": "code",
   "execution_count": null,
   "metadata": {},
   "outputs": [],
   "source": [
    "s=ms.star_log(mass=20,Z=0.02)"
   ]
  },
  {
   "cell_type": "markdown",
   "metadata": {},
   "source": [
    "Let's now see what the model looks like by making some Kippenhahn diagrams"
   ]
  },
  {
   "cell_type": "code",
   "execution_count": null,
   "metadata": {},
   "outputs": [],
   "source": [
    "ifig=111;close(ifig);figure(ifig)\n",
    "s.kippenhahn_CO(111,'model')"
   ]
  },
  {
   "cell_type": "markdown",
   "metadata": {},
   "source": [
    "What's happening at the centre of the star? ..."
   ]
  },
  {
   "cell_type": "code",
   "execution_count": null,
   "metadata": {},
   "outputs": [],
   "source": [
    "ifig=101;close(ifig);figure(ifig)\n",
    "s.tcrhoc()\n",
    "axis([0,7,7,8.5])"
   ]
  },
  {
   "cell_type": "markdown",
   "metadata": {},
   "source": [
    "... and at the surface?"
   ]
  },
  {
   "cell_type": "code",
   "execution_count": null,
   "metadata": {},
   "outputs": [],
   "source": [
    "ifig=102;close(ifig);figure(ifig)\n",
    "s.hrd_new()\n",
    "legend(loc='lower right').draw_frame(False)"
   ]
  },
  {
   "cell_type": "code",
   "execution_count": null,
   "metadata": {
    "scrolled": false
   },
   "outputs": [],
   "source": [
    "ifig=107;close(ifig);figure(ifig)\n",
    "s.kip_cont(ifig=ifig)"
   ]
  },
  {
   "cell_type": "markdown",
   "metadata": {},
   "source": [
    "Now that we have an overview of the stellar evolution of this $2M_\\odot$ star let's have a closer look at the nucleosynthesis.\n",
    "\n",
    "## The NuGrid post-processing model\n",
    "Initialise the 20 solar-mass Z=0.02 NuGrid nucleosynthesis data from set1.2 using the seeker method:"
   ]
  },
  {
   "cell_type": "code",
   "execution_count": null,
   "metadata": {},
   "outputs": [],
   "source": [
    "# this is where the data physically is located, and these are for each M/Z combinations the available data types\n",
    "%ls /data/nugrid_apod2/data/set1ext/set1.1/"
   ]
  },
  {
   "cell_type": "code",
   "execution_count": null,
   "metadata": {},
   "outputs": [],
   "source": [
    "mp.se?"
   ]
  },
  {
   "cell_type": "code",
   "execution_count": null,
   "metadata": {},
   "outputs": [],
   "source": [
    "# to load the explosion data use ppd_exp data type, and select an explosion type\n",
    "pt=mp.se(mass=20,Z=0.02,type='ppd_exp', exp_type='delay')"
   ]
  },
  {
   "cell_type": "code",
   "execution_count": null,
   "metadata": {},
   "outputs": [],
   "source": [
    "# load the available cycles\n",
    "ppd_exp_cycs = pt.se.cycles"
   ]
  },
  {
   "cell_type": "code",
   "execution_count": null,
   "metadata": {},
   "outputs": [],
   "source": [
    "# The first available cycle \n",
    "ppd_exp_cycs[0]"
   ]
  },
  {
   "cell_type": "code",
   "execution_count": null,
   "metadata": {},
   "outputs": [],
   "source": [
    "# ifig=111;figure(ifig)\n",
    "# this is not overplotting as we want\n",
    "# pt.plot('mass','temperature',fname=ppd_exp_cycs[1:-1:50],path='/home/user/notebooks')\n",
    "cycle=0\n",
    "mass = pt.get(ppd_exp_cycs[cycle],'mass')\n",
    "rho = pt.get(ppd_exp_cycs[cycle],'rho')\n",
    "temperature = pt.get(ppd_exp_cycs[cycle],'temperature')"
   ]
  },
  {
   "cell_type": "code",
   "execution_count": null,
   "metadata": {},
   "outputs": [],
   "source": [
    "figure(111) \n",
    "plot(mass,temperature,':')"
   ]
  },
  {
   "cell_type": "markdown",
   "metadata": {},
   "source": [
    "### Abundance profiles "
   ]
  },
  {
   "cell_type": "code",
   "execution_count": null,
   "metadata": {},
   "outputs": [],
   "source": [
    "# pt.abu_profile?"
   ]
  },
  {
   "cell_type": "code",
   "execution_count": null,
   "metadata": {},
   "outputs": [],
   "source": [
    "species=['H-1','He-4','C-12','C-13','N-14','O-16','Si-28','Ti-44','Ni-56']\n",
    "ifig=108;close(ifig);figure(ifig)\n",
    "pt.abu_profile(isos=species, ifig=ifig, fname=ppd_exp_cycs[cycle], logy=True)\n",
    "ylim(-13,0)\n",
    "xlim(0.,20.)"
   ]
  },
  {
   "cell_type": "markdown",
   "metadata": {},
   "source": [
    "#### Abundance profile at the time of formation of the partial-mix zone"
   ]
  },
  {
   "cell_type": "markdown",
   "metadata": {},
   "source": [
    "### Isotopic abundance distribution\n",
    "\n",
    "#### Static plots\n",
    "\n"
   ]
  },
  {
   "cell_type": "code",
   "execution_count": null,
   "metadata": {},
   "outputs": [],
   "source": [
    "# help\n",
    "#pt.iso_abund?"
   ]
  },
  {
   "cell_type": "code",
   "execution_count": null,
   "metadata": {},
   "outputs": [],
   "source": [
    "mmin = 1.7\n",
    "mmax = 2.3"
   ]
  },
  {
   "cell_type": "code",
   "execution_count": null,
   "metadata": {},
   "outputs": [],
   "source": [
    "ifig=123;close(ifig);figure(ifig)\n",
    "pt.iso_abund(ppd_exp_cycs[cycle], stable=True,amass_range=[10,100], mass_range=[mmin,mmax], ylim=[-9, 0])"
   ]
  },
  {
   "cell_type": "markdown",
   "metadata": {},
   "source": [
    "### Abundance chart plot\n",
    "We can also see the impact on the isotopic abundance chart for that part of the star:"
   ]
  },
  {
   "cell_type": "code",
   "execution_count": null,
   "metadata": {},
   "outputs": [],
   "source": [
    "# pt.abu_chart?"
   ]
  },
  {
   "cell_type": "code",
   "execution_count": null,
   "metadata": {
    "scrolled": true
   },
   "outputs": [],
   "source": [
    "#ifig=1233;close(ifig);figure(ifig)\n",
    "pt.abu_chart(ppd_exp_cycs[cycle],mass_range=[mmin,mmax], plotaxis=[0, 80, 0, 60],\\\n",
    "             ilabel=False,imlabel=False,boxstable=False)\n"
   ]
  },
  {
   "cell_type": "code",
   "execution_count": null,
   "metadata": {},
   "outputs": [],
   "source": []
  }
 ],
 "metadata": {
  "kernelspec": {
   "display_name": "Python 3",
   "language": "python",
   "name": "python3"
  },
  "language_info": {
   "codemirror_mode": {
    "name": "ipython",
    "version": 3
   },
   "file_extension": ".py",
   "mimetype": "text/x-python",
   "name": "python",
   "nbconvert_exporter": "python",
   "pygments_lexer": "ipython3",
   "version": "3.6.4"
  }
 },
 "nbformat": 4,
 "nbformat_minor": 2
}
