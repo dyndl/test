{
 "cells": [
  {
   "cell_type": "markdown",
   "metadata": {},
   "source": [
    "# Cloning and using a specific release\n",
    "Sometimes it is necessary, e.g. for testing, to use a specific release of NuGridPy. Here is an example of how this can be done. The `--branch` option takes also tags. Each release is associated with a tag. Go to the [NuGridPy release page](https://github.com/NuGrid/NuGridPy/releases) and identify the tag for the release you want to use. In this case we use the _Helium_ release that has the tag `v0.7.4`."
   ]
  },
  {
   "cell_type": "code",
   "execution_count": null,
   "metadata": {},
   "outputs": [],
   "source": [
    "%%bash\n",
    "cd /home/user/notebooks/\n",
    "mkdir repos\n",
    "cd repos\n",
    "git clone https://github.com/NuGrid/NuGridPy.git --branch v0.7.4"
   ]
  },
  {
   "cell_type": "code",
   "execution_count": null,
   "metadata": {},
   "outputs": [],
   "source": [
    "import sys\n",
    "sys.path.insert(1,\"/home/user/notebooks/repos/NuGridPy\")\n",
    "from nugridpy import nugridse as mp"
   ]
  },
  {
   "cell_type": "code",
   "execution_count": null,
   "metadata": {},
   "outputs": [],
   "source": [
    "# confirm which nugridse we are using\n",
    "mp.__file__"
   ]
  },
  {
   "cell_type": "code",
   "execution_count": null,
   "metadata": {},
   "outputs": [],
   "source": [
    "mse = mp.se(\"/data/nugrid_apod2/data/set1ext/set1.1/see_wind/M2.00Z1.0e-02/M2.00Z0.010\")"
   ]
  },
  {
   "cell_type": "code",
   "execution_count": null,
   "metadata": {},
   "outputs": [],
   "source": [
    "mse.se.hattrs?"
   ]
  }
 ],
 "metadata": {
  "kernelspec": {
   "display_name": "Python 3",
   "language": "python",
   "name": "python3"
  },
  "language_info": {
   "codemirror_mode": {
    "name": "ipython",
    "version": 3
   },
   "file_extension": ".py",
   "mimetype": "text/x-python",
   "name": "python",
   "nbconvert_exporter": "python",
   "pygments_lexer": "ipython3",
   "version": "3.5.2"
  }
 },
 "nbformat": 4,
 "nbformat_minor": 2
}
