{
 "cells": [
  {
   "cell_type": "markdown",
   "metadata": {},
   "source": [
    "# Teaching notebook\n",
    "Explore $2$ and $20\\mathrm{M}_\\odot$ [MESA](http://mesa.sourceforge.net) stellar evolution models.\n",
    "\n",
    "This notebook analyzes two [MESA](http://mesa.sourceforge.net) stellar evolution tracks with both `history_data` and `profile_data` files. It uses the [NuGridPy](http://nugridpy.phys.uvic.ca) tools, especially the `mesa.py` module.\n",
    "\n",
    "This notebook demonstrates the essential commands to do basic plots of stellar evolution. The goal is to find fully convective pre-main sequence models and to \n",
    "1. check how well their EOS is prepresented by an ideal gas\n",
    "2. integrate an adiabatic polytrope and compare to the stellar evolution model"
   ]
  },
  {
   "cell_type": "code",
   "execution_count": null,
   "metadata": {},
   "outputs": [],
   "source": [
    "from nugridpy import mesa as ms\n",
    "%pylab nbagg"
   ]
  },
  {
   "cell_type": "code",
   "execution_count": null,
   "metadata": {},
   "outputs": [],
   "source": [
    "# default data location (try mirror if default\n",
    "# is not available)\n",
    "data_dir=\"/tmp/nugrid_data\"   \n",
    "\n",
    "# mirror data locations (some mirrors \n",
    "# may not be available at some time)\n",
    "\n",
    "# data_dir=\"/data/nugrid_cedar\"  # may be default    \n",
    "# data_dir=\"/data/nugrid_rpod4\"    \n",
    "# data_dir=\"/data/nugrid_vos\"    \n",
    "\n",
    "nugrid_data_dir=data_dir\n",
    "m2_dir=nugrid_data_dir+'/data/teaching/mesa/m2.00z2.0e-2/LOGS'\n",
    "m20_dir=nugrid_data_dir+'/data/teaching/mesa/m20.0z2.0e-2/LOGS'"
   ]
  },
  {
   "cell_type": "code",
   "execution_count": null,
   "metadata": {},
   "outputs": [],
   "source": [
    "s2=ms.star_log(m2_dir)\n",
    "s20=ms.star_log(m20_dir)"
   ]
  },
  {
   "cell_type": "code",
   "execution_count": null,
   "metadata": {},
   "outputs": [],
   "source": [
    "ifig=1; figure(ifig)\n",
    "s20.hrd_new()\n",
    "s2.hrd_new()"
   ]
  },
  {
   "cell_type": "code",
   "execution_count": null,
   "metadata": {},
   "outputs": [],
   "source": [
    "# what colums are available in this history data instance?\n",
    "s2.cols"
   ]
  },
  {
   "cell_type": "code",
   "execution_count": null,
   "metadata": {},
   "outputs": [],
   "source": [
    "# plot any of these against any other\n",
    "ifig=2; figure(ifig)     # start new figure\n",
    "s2.plot('model_number','log_Teff')"
   ]
  },
  {
   "cell_type": "code",
   "execution_count": null,
   "metadata": {},
   "outputs": [],
   "source": [
    "!ls /data/nugrid_vos/data/teaching/mesa/m2.00z2.0e-2/LOGS/log5.data "
   ]
  },
  {
   "cell_type": "code",
   "execution_count": null,
   "metadata": {},
   "outputs": [],
   "source": [
    "# after you found a profile you are interested in, e.g. a fully \n",
    "# convective pre-main sequence model you may create a profile instance\n",
    "# for a model number\n",
    "p2=ms.mesa_profile(m2_dir,400)"
   ]
  },
  {
   "cell_type": "code",
   "execution_count": null,
   "metadata": {},
   "outputs": [],
   "source": [
    "# and again you may ask what columns are available\n",
    "p2.cols"
   ]
  },
  {
   "cell_type": "code",
   "execution_count": null,
   "metadata": {},
   "outputs": [],
   "source": [
    "# let's verify that indeed this model is fully convective by plotting the\n",
    "# radiative and adiabatic temperature gradient against each other\n",
    "ifig=3; figure(ifig)\n",
    "grada=p2.get('grada')\n",
    "gradr=p2.get('gradr')\n",
    "mass=p2.get('mass')\n",
    "plot(mass,log10(grada),label='grada')\n",
    "plot(mass,log10(gradr),label='gradr')\n",
    "legend(loc=2)"
   ]
  },
  {
   "cell_type": "code",
   "execution_count": null,
   "metadata": {},
   "outputs": [],
   "source": [
    "# here we may also plot arbitrary quantities against each other\n",
    "ifig=4; figure(ifig)\n",
    "p2.plot('mass','logRho')"
   ]
  },
  {
   "cell_type": "code",
   "execution_count": null,
   "metadata": {},
   "outputs": [],
   "source": [
    "ifig=5; figure(ifig)\n",
    "p2.plot('logP','logRho')"
   ]
  },
  {
   "cell_type": "code",
   "execution_count": null,
   "metadata": {},
   "outputs": [],
   "source": [
    "# Now integrate a adiabatic polytrope with estimated central conditions for the \n",
    "# radius and mass of this stellar model and see if "
   ]
  }
 ],
 "metadata": {
  "kernelspec": {
   "display_name": "Python 3",
   "language": "python",
   "name": "python3"
  },
  "language_info": {
   "codemirror_mode": {
    "name": "ipython",
    "version": 3
   },
   "file_extension": ".py",
   "mimetype": "text/x-python",
   "name": "python",
   "nbconvert_exporter": "python",
   "pygments_lexer": "ipython3",
   "version": "3.6.4"
  }
 },
 "nbformat": 4,
 "nbformat_minor": 2
}
