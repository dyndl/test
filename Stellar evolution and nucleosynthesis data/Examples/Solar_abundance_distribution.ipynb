{
 "cells": [
  {
   "cell_type": "markdown",
   "metadata": {},
   "source": [
    "# Solar Abundance Distribution with OMEGA"
   ]
  },
  {
   "cell_type": "markdown",
   "metadata": {},
   "source": [
    "This notebook shows how to plot the predicted abundance distribution of the galactic gas at a certain time, and to quantify the contribution of different enrichment sources (e.g., massive stars, Type Ia supernovae, etc.).  This uses the galactic chemical evolution code OMEGA."
   ]
  },
  {
   "cell_type": "code",
   "execution_count": null,
   "metadata": {},
   "outputs": [],
   "source": [
    "# Load modules\n",
    "import matplotlib\n",
    "import matplotlib.pyplot as plt\n",
    "import sygma\n",
    "#reload(sygma)\n",
    "import omega\n",
    "#reload(omega)"
   ]
  },
  {
   "cell_type": "markdown",
   "metadata": {},
   "source": [
    "## 1. Run an OMEGA instance and isolate where the Sun forms"
   ]
  },
  {
   "cell_type": "code",
   "execution_count": null,
   "metadata": {},
   "outputs": [],
   "source": [
    "# Run a simple Milky Way simulation with no outflows.\n",
    "# Uses NuGrid yields (Ritter et al. 2017)\n",
    "o_sol = omega.omega(galaxy='milky_way', special_timesteps=100, DM_evolution=True, iniZ=0.0001, \\\n",
    "      table='yield_tables/agb_and_massive_stars_nugrid_MESAonly_fryer12delay.txt', \\\n",
    "        mass_frac_SSP=0.35, exp_ml=1.0, nb_1a_per_m=1.5e-3, sfe=0.05, t_sf_z_dep=0.3, mass_loading=0.0, \\\n",
    "          transitionmass=10)"
   ]
  },
  {
   "cell_type": "code",
   "execution_count": null,
   "metadata": {},
   "outputs": [],
   "source": [
    "# Find the timestep index where the gas metallicity is ~0.014 (solar value).\n",
    "i_step_sol = 87\n",
    "print o_sol.history.metallicity[i_step_sol]"
   ]
  },
  {
   "cell_type": "markdown",
   "metadata": {},
   "source": [
    "## 2. Prepare isotopes and elements lists, and read solar abundances"
   ]
  },
  {
   "cell_type": "code",
   "execution_count": null,
   "metadata": {},
   "outputs": [],
   "source": [
    "# Function to retrun the list of isotope index for an input element\n",
    "def get_list_iso_index(specie, inst):\n",
    "    specie_list = []\n",
    "    for i_gl in range(0,len(inst.history.isotopes)):\n",
    "        if (specie+'-') in inst.history.isotopes[i_gl]:\n",
    "            specie_list.append(i_gl)\n",
    "    return specie_list\n",
    "\n",
    "# List of charge numbers (NEED to be as in the yields table)\n",
    "Z_charge = []\n",
    "for i in range(1,84):\n",
    "    # Exclude elements not considered in NuGrid yields\n",
    "    if (not i == 43) and (not i == 61):\n",
    "        Z_charge.append(i)\n",
    "        \n",
    "# List of elements (NuGrid yields)\n",
    "elements = ['H', 'He', 'Li', 'Be', 'B', 'C', 'N', 'O', 'F', 'Ne', 'Na', 'Mg', 'Al', \\\n",
    "            'Si', 'P', 'S', 'Cl', 'Ar', 'K', 'Ca', 'Sc', 'Ti', 'V', 'Cr', \\\n",
    "            'Mn', 'Fe', 'Co', 'Ni', 'Cu', 'Zn', 'Ga', 'Ge', 'As', 'Se', 'Br', 'Kr', \\\n",
    "            'Rb', 'Sr', 'Y', 'Zr', 'Nb', 'Mo', 'Ru', 'Rh', 'Pd', 'Ag', 'Cd', 'In', \\\n",
    "            'Sn', 'Sb', 'Te', 'I', 'Xe', 'Cs', 'Ba', 'La', 'Ce', 'Pr', 'Nd', 'Sm', \\\n",
    "            'Eu', 'Gd', 'Tb', 'Dy', 'Ho', 'Er', 'Tm', 'Yb', 'Lu', 'Hf', 'Ta', 'W', \\\n",
    "            'Re', 'Os', 'Ir', 'Pt', 'Au', 'Hg', 'Tl', 'Pb', 'Bi']\n",
    "\n",
    "# List of atomic weigth to plot the mass fractions\n",
    "atom_weigth = [1.0079, 4.0026, 6.941, 9.0122, 10.81, 12.011, 14.007, 15.999, 18.998, 20.180, \\\n",
    "               22.990, 24.305, 26.982, 28.086, 30.974, 32.065, 35.453, 39.453, 39.098, \\\n",
    "               40.078, 44.956, 47.867, 50.942, 51.996, 54.938, 55.845, 58.933, 58.693, \\\n",
    "               63.546, 65.390, 69.723, 72.610, 74.922, 78.96, 79.904, 83.80, 85.468, \\\n",
    "               87.62, 88.906, 91.224, 92.906, 95.94, 98.0, 101.07, 102.91, 106.42, 107.87, \\\n",
    "               112.41, 114.82, 118.71, 121.76, 127.60, 126.90, 131.29, 132.91, 137.33, \\\n",
    "               138.91, 140.12, 140.91, 144.24, 145.0, 150.36, 151.96, 157.25, 158.93, 162.50, \\\n",
    "               164.93, 167.26, 168.93, 173.04, 174.97, 178.49, 180.95, 183.84, 186.21, \\\n",
    "               190.23, 192.22, 195.08, 196.97, 200.59, 204.38, 207.2, 208.98]"
   ]
  },
  {
   "cell_type": "code",
   "execution_count": null,
   "metadata": {},
   "outputs": [],
   "source": [
    "# Read solar abundances (number densities)\n",
    "solar_Z = []\n",
    "solar_ab = []\n",
    "solar_ab_path = 'Lodders_et_al_2009.txt'\n",
    "with open(\"/opt/NuPyCEE/stellab_data/solar_normalization/\"+\\\n",
    "           solar_ab_path, 'r') as f:\n",
    "    not_finished = True\n",
    "    for line in f:\n",
    "        split_line = [str(x) for x in line.split()]\n",
    "        if not_finished:\n",
    "            solar_Z.append(int(split_line[0]))\n",
    "            solar_ab.append(10**(float(split_line[2])-12))\n",
    "            if split_line[1] == 'Bi':\n",
    "                not_finished = False\n",
    "f.close()\n",
    "\n",
    "# Convert number of atoms into masses\n",
    "for i in range(len(solar_ab)):\n",
    "    solar_ab[i] *= atom_weigth[i]\n",
    "    \n",
    "# Normalize to 1.0\n",
    "norm = 1.0/sum(solar_ab)\n",
    "for i in range(len(solar_ab)):\n",
    "    solar_ab[i] *= norm"
   ]
  },
  {
   "cell_type": "markdown",
   "metadata": {},
   "source": [
    "## 3. Calculate the contribution of different sources"
   ]
  },
  {
   "cell_type": "code",
   "execution_count": null,
   "metadata": {},
   "outputs": [],
   "source": [
    "# Function to extract the contribution of individual sources\n",
    "def get_individual_sources(inst, iRAWDs_on, i_step_sol):\n",
    "    \n",
    "    # Declare the abundances arrays\n",
    "    m_el_all = []\n",
    "    m_el_agb = []\n",
    "    m_el_massive = []\n",
    "    m_el_sn1a = []\n",
    "    m_el_nsm = []\n",
    "    if iRAWDs_on:\n",
    "        m_el_iRAWDs = []\n",
    "    \n",
    "    # Get the mass distrubution of individual sources\n",
    "    for i_el in range(0,len(elements)):\n",
    "        m_el_all.append(0.0)\n",
    "        m_el_agb.append(0.0)\n",
    "        m_el_massive.append(0.0)\n",
    "        m_el_sn1a.append(0.0)\n",
    "        m_el_nsm.append(0.0)\n",
    "        if iRAWDs_on:\n",
    "            m_el_iRAWDs.append(0.0)\n",
    "        specie_list = get_list_iso_index(elements[i_el], inst)\n",
    "        for i_iso in range(0,len(specie_list)):\n",
    "            m_el_all[i_el] += inst.ymgal[i_step_sol][specie_list[i_iso]]\n",
    "            m_el_agb[i_el] += inst.ymgal_agb[i_step_sol][specie_list[i_iso]]\n",
    "            m_el_massive[i_el] += inst.ymgal_massive[i_step_sol][specie_list[i_iso]]\n",
    "            m_el_sn1a[i_el] += inst.ymgal_1a[i_step_sol][specie_list[i_iso]]\n",
    "            m_el_nsm[i_el] += inst.ymgal_nsm[i_step_sol][specie_list[i_iso]]\n",
    "            if iRAWDs_on:\n",
    "                m_el_iRAWDs[i_el] += inst.ymgal_delayed_extra[0][i_step_sol][specie_list[i_iso]]\n",
    "    \n",
    "    # Normalize each sources\n",
    "    norm_all_for_all = 1.0 / sum(m_el_all)\n",
    "    for i_el in range(0,len(elements)):\n",
    "        m_el_all[i_el] *= norm_all_for_all\n",
    "        m_el_agb[i_el] *= norm_all_for_all\n",
    "        m_el_massive[i_el] *= norm_all_for_all\n",
    "        m_el_sn1a[i_el] *= norm_all_for_all\n",
    "        m_el_nsm[i_el] *= norm_all_for_all\n",
    "        if iRAWDs_on:\n",
    "            m_el_iRAWDs[i_el] *= norm_all_for_all\n",
    "    \n",
    "    # Return abundances patterns\n",
    "    if iRAWDs_on:\n",
    "        return m_el_all, m_el_agb, m_el_massive, m_el_sn1a, m_el_nsm, m_el_iRAWDs\n",
    "    else:\n",
    "        return m_el_all, m_el_agb, m_el_massive, m_el_sn1a, m_el_nsm"
   ]
  },
  {
   "cell_type": "code",
   "execution_count": null,
   "metadata": {},
   "outputs": [],
   "source": [
    "# Get contribution\n",
    "m_el_all, m_el_agb, m_el_massive, m_el_sn1a, m_el_nsm = \\\n",
    "    get_individual_sources(o_sol, iRAWDs_on=False, i_step_sol=i_step_sol)"
   ]
  },
  {
   "cell_type": "markdown",
   "metadata": {},
   "source": [
    "## 4. Plot abundance pattern"
   ]
  },
  {
   "cell_type": "code",
   "execution_count": null,
   "metadata": {},
   "outputs": [],
   "source": [
    "# Define the figure size\n",
    "fig = plt.figure(figsize=(6,4.))\n",
    "matplotlib.rcParams.update({'font.size': 14.0})\n",
    "\n",
    "# Plot solar abundance data\n",
    "plt.plot(solar_Z, solar_ab, color='c', linewidth=4, alpha=0.5, label='Solar')\n",
    "\n",
    "# Plot predicted contribution \n",
    "plt.plot(Z_charge, m_el_all, color='orange', label='All sources', alpha=1.0, linestyle='-', linewidth=2)\n",
    "plt.plot(Z_charge, m_el_sn1a, color='r', label='SNe Ia', alpha=0.8, linestyle='--', marker='s')\n",
    "plt.plot(Z_charge, m_el_massive, color='b', label='Massive', alpha=0.8, linestyle='--', marker='^')\n",
    "plt.plot(Z_charge, m_el_agb, color='g', label='AGB', alpha=0.8, linestyle='-', marker='x')\n",
    "\n",
    "# Annotation of the different elements\n",
    "ft = 14.0\n",
    "plt.annotate('Ti',xy=(22,8e-6),   fontsize=ft, ha='center',va='bottom')\n",
    "plt.annotate('V', xy=(23,3e-9),   fontsize=ft, ha='center',va='bottom')\n",
    "plt.annotate('Cr',xy=(24,5e-4),   fontsize=ft, ha='center',va='bottom')\n",
    "plt.annotate('Mn',xy=(25,1.3e-7), fontsize=ft, ha='center',va='bottom')\n",
    "plt.annotate('Fe',xy=(26,3e-3),   fontsize=ft, ha='center',va='bottom')\n",
    "plt.annotate('Co',xy=(27,5e-8),   fontsize=ft, ha='center',va='bottom')\n",
    "plt.annotate('Ni',xy=(28,4e-4),   fontsize=ft, ha='center',va='bottom')\n",
    "plt.annotate('Cu',xy=(29,1e-9),   fontsize=ft, ha='center',va='bottom')\n",
    "plt.annotate('Zn',xy=(30,1e-5),   fontsize=ft, ha='center',va='bottom')\n",
    "plt.annotate('Ga',xy=(31,1.3e-9), fontsize=ft, ha='center',va='bottom')\n",
    "\n",
    "# Label and axis\n",
    "plt.legend(fontsize=13, frameon=False)\n",
    "plt.xlabel('Z (charge number)', fontsize=16)\n",
    "plt.ylabel('X (mass fraction)', fontsize=16)\n",
    "plt.xlim(20,34)\n",
    "plt.ylim(1e-10,3e-1)\n",
    "plt.yscale('log')\n",
    "\n",
    "# Frame tuning\n",
    "plt.subplots_adjust(top=0.95)\n",
    "plt.subplots_adjust(right=0.98)\n",
    "plt.subplots_adjust(left=0.15)\n",
    "plt.subplots_adjust(bottom=0.14)"
   ]
  },
  {
   "cell_type": "markdown",
   "metadata": {},
   "source": [
    "## 5. Investigate the origin of a particular element"
   ]
  },
  {
   "cell_type": "code",
   "execution_count": null,
   "metadata": {},
   "outputs": [],
   "source": [
    "# Run SYGMA (simple stellar population instances)\n",
    "s_0_02  = sygma.sygma(iniZ=0.02)\n",
    "s_0_01  = sygma.sygma(iniZ=0.01)\n",
    "s_0_006 = sygma.sygma(iniZ=0.006)"
   ]
  },
  {
   "cell_type": "code",
   "execution_count": null,
   "metadata": {},
   "outputs": [],
   "source": [
    "# Select the element\n",
    "specie = 'Cr'\n",
    "\n",
    "# Print a warning\n",
    "print 'Warning! This plot does not show the contribution of Type Ia supernovae.'\n",
    "\n",
    "# Plot the yields weighted by the initial mass function\n",
    "s_0_02.plot_mass_range_contributions(specie=specie,  log=True, color='b', label='Z=0.02')\n",
    "s_0_01.plot_mass_range_contributions(specie=specie,  log=True, color='g', label='Z=0.01')\n",
    "s_0_006.plot_mass_range_contributions(specie=specie, log=True, color='r', label='Z=0.06')\n",
    "\n",
    "# Rearange the figure (legend, axis labels)\n",
    "plt.figsize=(6,4.4)\n",
    "plt.legend(loc=2, frameon=False, fontsize=13)\n",
    "plt.xlim(1,27)\n",
    "plt.ylabel('Cr IMF-weighted yields [M$_\\odot$]')\n",
    "plt.xlabel('Stellar initial mass [M$_\\odot$]')"
   ]
  }
 ],
 "metadata": {
  "kernelspec": {
   "display_name": "Python 2",
   "language": "python",
   "name": "python2"
  },
  "language_info": {
   "codemirror_mode": {
    "name": "ipython",
    "version": 2
   },
   "file_extension": ".py",
   "mimetype": "text/x-python",
   "name": "python",
   "nbconvert_exporter": "python",
   "pygments_lexer": "ipython2",
   "version": "2.7.12"
  }
 },
 "nbformat": 4,
 "nbformat_minor": 1
}
