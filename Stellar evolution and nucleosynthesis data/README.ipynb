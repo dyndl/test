{
 "cells": [
  {
   "cell_type": "markdown",
   "metadata": {},
   "source": [
    "# Exploring NuGrid data"
   ]
  },
  {
   "cell_type": "markdown",
   "metadata": {},
   "source": [
    "This repo contains examples of how to use the [NuGridPy](https://nugrid.github.io/NuGridPy) tools to explore the [NuGrid data sets](http://www.nugridstars.org/data-and-software/yields/set-1), for example on the [Web-Exploration of NuGrid Data Interactive (WENDI)](https://wendi.nugridstars.org).\n",
    "\n",
    "`Star_explore.ipynb` is a general exploration notebook, and a good starting point.\n",
    "In the _Examples_ directory we provide a wide range of examples that each demonstrate certain aspects of analysing data. \n",
    "\n",
    "These examples live in the [NuGrid](https://github.com/NuGrid) [wendi-examples](https://github.com/NuGrid/wendi-examples) GitHub repository.\n",
    "\n",
    "These examles and more can be executed on the [Web-Exploration of NuGrid Data Interactive (WENDI)](https://wendi.nugridstars.org). Please feel free to add examples by making a pull request on the GitHub [wendi-examples](https://github.com/NuGrid/wendi-examples) repo. The examples must work on the WENDI server though. "
   ]
  }
 ],
 "metadata": {
  "kernelspec": {
   "display_name": "Python 2",
   "language": "python",
   "name": "python2"
  },
  "language_info": {
   "codemirror_mode": {
    "name": "ipython",
    "version": 2
   },
   "file_extension": ".py",
   "mimetype": "text/x-python",
   "name": "python",
   "nbconvert_exporter": "python",
   "pygments_lexer": "ipython2",
   "version": "2.7.12"
  }
 },
 "nbformat": 4,
 "nbformat_minor": 2
}
